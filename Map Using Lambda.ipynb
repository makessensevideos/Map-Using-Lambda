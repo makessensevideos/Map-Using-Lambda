{
 "cells": [
  {
   "cell_type": "code",
   "execution_count": 1,
   "metadata": {},
   "outputs": [],
   "source": [
    "import json"
   ]
  },
  {
   "cell_type": "code",
   "execution_count": 2,
   "metadata": {},
   "outputs": [
    {
     "name": "stdout",
     "output_type": "stream",
     "text": [
      "[{'title': \"Amblin'\", 'release_date': '1968-12-18'}, {'title': 'Night Gallery', 'release_date': '1969-11-08'}, {'title': 'LA 2017', 'release_date': '1971-01-15'}, {'title': 'Duel', 'release_date': '1971-11-13'}, {'title': 'Something Evil', 'release_date': '1972-01-21'}, {'title': 'Savage', 'release_date': '1973-03-31'}, {'title': 'The Sugarland Express', 'release_date': '1974-04-05'}, {'title': 'Jaws', 'release_date': '1975-06-20'}, {'title': 'Close Encounters of the Third Kind', 'release_date': '1977-11-18'}, {'title': '1941', 'release_date': '1979-12-14'}, {'title': 'Raiders of the Lost Ark', 'release_date': '1981-06-12'}, {'title': 'E.T. the Extra-Terrestrial', 'release_date': '1982-06-11'}, {'title': 'Twilight Zone: The Movie', 'release_date': '1983-06-24'}, {'title': 'Indiana Jones and the Temple of Doom', 'release_date': '1984-05-23'}, {'title': 'The Color Purple', 'release_date': '1985-12-18'}, {'title': 'Amazing Stories', 'release_date': '1986-07-10'}, {'title': 'Empire of the Sun', 'release_date': '1987-12-09'}, {'title': 'Indiana Jones and the Last Crusade', 'release_date': '1989-05-24'}, {'title': 'Always', 'release_date': '1989-12-22'}, {'title': 'Hook', 'release_date': '1991-04-10'}, {'title': 'Jurassic Park', 'release_date': '1993-06-11'}, {'title': \"Schindler's List\", 'release_date': '1993-11-30'}, {'title': 'The Lost World: Jurassic Park', 'release_date': '1997-05-23'}, {'title': 'Amistad', 'release_date': '1997-12-10'}, {'title': 'Saving Private Ryan', 'release_date': '1998-07-24'}, {'title': 'The Unfinished Journey', 'release_date': '1999-12-31'}, {'title': 'A.I. Artificial Intelligence', 'release_date': '2001-06-29'}, {'title': 'Minority Report', 'release_date': '2002-06-20'}, {'title': 'Catch Me If You Can', 'release_date': '2002-12-25'}, {'title': 'The Terminal', 'release_date': '2004-06-17'}, {'title': 'War of the Worlds', 'release_date': '2005-06-28'}, {'title': 'Munich', 'release_date': '2005-12-23'}, {'title': 'Indiana Jones and the Kingdom of the Crystal Skull', 'release_date': '2008-05-21'}, {'title': 'A Timeless Call', 'release_date': '2008-08-07'}, {'title': 'The Adventures of Tintin', 'release_date': '2011-10-24'}, {'title': 'War Horse', 'release_date': '2011-12-25'}, {'title': 'Lincoln', 'release_date': '2012-11-09'}, {'title': 'Bridge of Spies', 'release_date': '2015-10-15'}, {'title': 'The BFG', 'release_date': '2016-06-01'}, {'title': 'The Post', 'release_date': '2017-01-19'}, {'title': 'Ready Player One', 'release_date': '2018-03-28'}, {'title': 'West Side Story', 'release_date': '2021-12-08'}, {'title': 'The Fabelmans', 'release_date': '2022-11-23'}]\n"
     ]
    }
   ],
   "source": [
    "with open('credits_list.json') as f:\n",
    "    credits_list = json.load(f)\n",
    "print(credits_list)"
   ]
  },
  {
   "cell_type": "code",
   "execution_count": 3,
   "metadata": {},
   "outputs": [
    {
     "name": "stdout",
     "output_type": "stream",
     "text": [
      "<map object at 0x000002585FEC44E0>\n"
     ]
    }
   ],
   "source": [
    "titles_map = map(lambda credit: credit['title'], credits_list)\n",
    "print(titles_map)"
   ]
  },
  {
   "cell_type": "code",
   "execution_count": 4,
   "metadata": {},
   "outputs": [
    {
     "name": "stdout",
     "output_type": "stream",
     "text": [
      "Amblin'\n",
      "Night Gallery\n",
      "LA 2017\n",
      "Duel\n",
      "Something Evil\n",
      "Savage\n",
      "The Sugarland Express\n",
      "Jaws\n",
      "Close Encounters of the Third Kind\n",
      "1941\n",
      "Raiders of the Lost Ark\n",
      "E.T. the Extra-Terrestrial\n",
      "Twilight Zone: The Movie\n",
      "Indiana Jones and the Temple of Doom\n",
      "The Color Purple\n",
      "Amazing Stories\n",
      "Empire of the Sun\n",
      "Indiana Jones and the Last Crusade\n",
      "Always\n",
      "Hook\n",
      "Jurassic Park\n",
      "Schindler's List\n",
      "The Lost World: Jurassic Park\n",
      "Amistad\n",
      "Saving Private Ryan\n",
      "The Unfinished Journey\n",
      "A.I. Artificial Intelligence\n",
      "Minority Report\n",
      "Catch Me If You Can\n",
      "The Terminal\n",
      "War of the Worlds\n",
      "Munich\n",
      "Indiana Jones and the Kingdom of the Crystal Skull\n",
      "A Timeless Call\n",
      "The Adventures of Tintin\n",
      "War Horse\n",
      "Lincoln\n",
      "Bridge of Spies\n",
      "The BFG\n",
      "The Post\n",
      "Ready Player One\n",
      "West Side Story\n",
      "The Fabelmans\n"
     ]
    }
   ],
   "source": [
    "for title in titles_map:\n",
    "    print(title)"
   ]
  },
  {
   "cell_type": "code",
   "execution_count": 5,
   "metadata": {},
   "outputs": [],
   "source": [
    "titles_list = list(titles_map)"
   ]
  },
  {
   "cell_type": "code",
   "execution_count": 6,
   "metadata": {},
   "outputs": [
    {
     "name": "stdout",
     "output_type": "stream",
     "text": [
      "[]\n"
     ]
    }
   ],
   "source": [
    "print(titles_list)"
   ]
  },
  {
   "cell_type": "code",
   "execution_count": 7,
   "metadata": {},
   "outputs": [
    {
     "name": "stdout",
     "output_type": "stream",
     "text": [
      "[\"Amblin'\", 'Night Gallery', 'LA 2017', 'Duel', 'Something Evil', 'Savage', 'The Sugarland Express', 'Jaws', 'Close Encounters of the Third Kind', '1941', 'Raiders of the Lost Ark', 'E.T. the Extra-Terrestrial', 'Twilight Zone: The Movie', 'Indiana Jones and the Temple of Doom', 'The Color Purple', 'Amazing Stories', 'Empire of the Sun', 'Indiana Jones and the Last Crusade', 'Always', 'Hook', 'Jurassic Park', \"Schindler's List\", 'The Lost World: Jurassic Park', 'Amistad', 'Saving Private Ryan', 'The Unfinished Journey', 'A.I. Artificial Intelligence', 'Minority Report', 'Catch Me If You Can', 'The Terminal', 'War of the Worlds', 'Munich', 'Indiana Jones and the Kingdom of the Crystal Skull', 'A Timeless Call', 'The Adventures of Tintin', 'War Horse', 'Lincoln', 'Bridge of Spies', 'The BFG', 'The Post', 'Ready Player One', 'West Side Story', 'The Fabelmans']\n"
     ]
    }
   ],
   "source": [
    "titles_list = list(map(lambda credit: credit['title'], credits_list))\n",
    "print(titles_list)"
   ]
  },
  {
   "cell_type": "code",
   "execution_count": null,
   "metadata": {},
   "outputs": [],
   "source": []
  }
 ],
 "metadata": {
  "kernelspec": {
   "display_name": "Python 3",
   "language": "python",
   "name": "python3"
  },
  "language_info": {
   "codemirror_mode": {
    "name": "ipython",
    "version": 3
   },
   "file_extension": ".py",
   "mimetype": "text/x-python",
   "name": "python",
   "nbconvert_exporter": "python",
   "pygments_lexer": "ipython3",
   "version": "3.7.3"
  }
 },
 "nbformat": 4,
 "nbformat_minor": 2
}
